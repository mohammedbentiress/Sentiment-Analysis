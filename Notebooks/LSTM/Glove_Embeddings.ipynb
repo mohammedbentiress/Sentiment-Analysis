{
  "nbformat": 4,
  "nbformat_minor": 0,
  "metadata": {
    "colab": {
      "name": "Glove_embedding_LSTM.ipynb",
      "provenance": [],
      "authorship_tag": "ABX9TyN3sObWe5zzmLgItOO70QFb",
      "include_colab_link": true
    },
    "kernelspec": {
      "name": "python3",
      "display_name": "Python 3"
    },
    "accelerator": "GPU"
  },
  "cells": [
    {
      "cell_type": "markdown",
      "metadata": {
        "id": "view-in-github",
        "colab_type": "text"
      },
      "source": [
        "<a href=\"https://colab.research.google.com/github/mohammedbentiress/Sentiment-Analysis/blob/master/Glove_embedding_LSTM.ipynb\" target=\"_parent\"><img src=\"https://colab.research.google.com/assets/colab-badge.svg\" alt=\"Open In Colab\"/></a>"
      ]
    },
    {
      "cell_type": "markdown",
      "metadata": {
        "id": "eXJNE-Nkf1x1",
        "colab_type": "text"
      },
      "source": [
        ""
      ]
    },
    {
      "cell_type": "code",
      "metadata": {
        "id": "BfKuJiejfj5v",
        "colab_type": "code",
        "colab": {
          "base_uri": "https://localhost:8080/",
          "height": 128
        },
        "outputId": "ebafc76f-2cc7-4c97-9134-3a984e18f7dc"
      },
      "source": [
        "from google.colab import drive\n",
        "drive.mount('/content/gdrive')"
      ],
      "execution_count": 1,
      "outputs": [
        {
          "output_type": "stream",
          "text": [
            "Go to this URL in a browser: https://accounts.google.com/o/oauth2/auth?client_id=947318989803-6bn6qk8qdgf4n4g3pfee6491hc0brc4i.apps.googleusercontent.com&redirect_uri=urn%3aietf%3awg%3aoauth%3a2.0%3aoob&response_type=code&scope=email%20https%3a%2f%2fwww.googleapis.com%2fauth%2fdocs.test%20https%3a%2f%2fwww.googleapis.com%2fauth%2fdrive%20https%3a%2f%2fwww.googleapis.com%2fauth%2fdrive.photos.readonly%20https%3a%2f%2fwww.googleapis.com%2fauth%2fpeopleapi.readonly\n",
            "\n",
            "Enter your authorization code:\n",
            "··········\n",
            "Mounted at /content/gdrive\n"
          ],
          "name": "stdout"
        }
      ]
    },
    {
      "cell_type": "markdown",
      "metadata": {
        "id": "OPzlhca9f6HN",
        "colab_type": "text"
      },
      "source": [
        "# Importing Required Libraries"
      ]
    },
    {
      "cell_type": "code",
      "metadata": {
        "id": "1stx5rkJf2hU",
        "colab_type": "code",
        "colab": {}
      },
      "source": [
        "import csv\n",
        "import numpy as np\n",
        "import pandas as pd\n",
        "from numpy import array\n",
        "from numpy import zeros\n",
        "from numpy import asarray\n",
        "import matplotlib.pyplot as plt\n",
        "from tensorflow.keras import Sequential\n",
        "from tensorflow.keras.models import save_model\n",
        "from sklearn.model_selection import train_test_split\n",
        "from tensorflow.keras.preprocessing.text import one_hot\n",
        "from tensorflow.keras.preprocessing.text import Tokenizer\n",
        "from tensorflow.keras.preprocessing.sequence import pad_sequences\n",
        "from tensorflow.keras.layers import Activation, Dropout, Dense, Flatten, GlobalMaxPool1D, Embedding, Conv1D, LSTM, GRU,Bidirectional,SpatialDropout1D"
      ],
      "execution_count": 0,
      "outputs": []
    },
    {
      "cell_type": "markdown",
      "metadata": {
        "id": "7w8zzwOyf98d",
        "colab_type": "text"
      },
      "source": [
        "# define functions for treatement"
      ]
    },
    {
      "cell_type": "markdown",
      "metadata": {
        "id": "vElx7LWogCu3",
        "colab_type": "text"
      },
      "source": [
        "**extracting  data from dataset tweet-sentiment**"
      ]
    },
    {
      "cell_type": "code",
      "metadata": {
        "id": "UJWPRls2gBwm",
        "colab_type": "code",
        "colab": {}
      },
      "source": [
        "def load_dataset(filename):\n",
        "    # read the dataset \n",
        "    tweets = pd.read_csv(filename, encoding=\"ISO-8859-1\")\n",
        "\n",
        "    # tweet listing\n",
        "    text = []\n",
        "    sentences = list(tweets['tweet'].astype(str))\n",
        "    for sen in sentences:\n",
        "        text.append(sen)\n",
        "\n",
        "    # sentiment listing\n",
        "    label = tweets['sentiment']\n",
        "    label = np.array(list(map(lambda x: 1 if x==\"positive\" else 0, label)))\n",
        "    \n",
        "    return text,label"
      ],
      "execution_count": 0,
      "outputs": []
    },
    {
      "cell_type": "markdown",
      "metadata": {
        "id": "a0YQJn48gKas",
        "colab_type": "text"
      },
      "source": [
        "**load the embedding model**"
      ]
    },
    {
      "cell_type": "code",
      "metadata": {
        "id": "833oEx53gNNS",
        "colab_type": "code",
        "colab": {}
      },
      "source": [
        "def load_embedding(filename):\n",
        "    # create the  embedding dictionnary\n",
        "    embeddings_dict = dict()\n",
        "    emb_file = open(filename, encoding='utf8')\n",
        "    for line in emb_file:\n",
        "        records = line.split()\n",
        "        word = records[0]\n",
        "        vector_dimensions = asarray(records[1:], dtype='float32')\n",
        "        embeddings_dict [word] = vector_dimensions\n",
        "    emb_file.close()\n",
        "    return embeddings_dict"
      ],
      "execution_count": 0,
      "outputs": []
    },
    {
      "cell_type": "markdown",
      "metadata": {
        "id": "r1Pv3DWHgQyp",
        "colab_type": "text"
      },
      "source": [
        "**create embedding weights**"
      ]
    },
    {
      "cell_type": "code",
      "metadata": {
        "id": "gU-3XNDdgUbE",
        "colab_type": "code",
        "colab": {}
      },
      "source": [
        "def create_embedding_matrix(embedding, vocabulary):\n",
        "    # create the feature matrix with filtrinng the element with non zero vector\n",
        "    count = 0\n",
        "    vocab_size = len(vocabulary) + 1 \n",
        "    embedding_mat = zeros((vocab_size, 100))\n",
        "    for word, index in vocabulary.items():\n",
        "        embedding_vector = embedding.get(word)\n",
        "        if embedding_vector is not None:\n",
        "            count = count + 1\n",
        "            embedding_mat[index] = embedding_vector\n",
        "    # print some informations about our vocabulary\n",
        "    print(\" vocabulary size : number of unique words in the vocabulary \",vocab_size)\n",
        "    print(\" percentage of the vocabulary covered by the pretrained model : \",(count/vocab_size)*100)\n",
        "    return embedding_mat"
      ],
      "execution_count": 0,
      "outputs": []
    },
    {
      "cell_type": "markdown",
      "metadata": {
        "id": "FfPTcACfgYe0",
        "colab_type": "text"
      },
      "source": [
        "**create the sentiment classifier**"
      ]
    },
    {
      "cell_type": "code",
      "metadata": {
        "id": "mQESVx9AgbpR",
        "colab_type": "code",
        "colab": {}
      },
      "source": [
        "def create_classifier(classification_model,embeddings):\n",
        "    # add layers\n",
        "    classification_model.add(embeddings)\n",
        "    classification_model.add(Bidirectional(LSTM(100)))\n",
        "    classification_model.add(Dense(100, activation='relu'))\n",
        "    classification_model.add(Dense(1, activation='sigmoid'))\n",
        "    \n",
        "    # compile \n",
        "    classification_model.compile(optimizer='adam', loss='binary_crossentropy', metrics=['acc'])\n",
        "    \n",
        "    # print summary of the model\n",
        "    print(classification_model.summary())\n",
        "    return classification_model"
      ],
      "execution_count": 0,
      "outputs": []
    },
    {
      "cell_type": "markdown",
      "metadata": {
        "id": "61StxZZDgeZd",
        "colab_type": "text"
      },
      "source": [
        "**drawing plots for modeling accuracy and loss of the validation set**"
      ]
    },
    {
      "cell_type": "code",
      "metadata": {
        "id": "TDoG0Cizgi-5",
        "colab_type": "code",
        "colab": {}
      },
      "source": [
        "def draw_plots(model_history):\n",
        "    \n",
        "    # accuracy plot\n",
        "    plt.plot(model_history.history['acc'])\n",
        "    plt.plot(model_history.history['val_acc'])\n",
        "    plt.title('model accuracy')\n",
        "    plt.ylabel('accuracy')\n",
        "    plt.xlabel('epoch')\n",
        "    plt.legend(['train','valid'], loc='upper left')\n",
        "    plt.show()\n",
        "\n",
        "    # loss plot\n",
        "    plt.plot(model_history.history['loss'])\n",
        "    plt.plot(model_history.history['val_loss'])\n",
        "    plt.title('model loss')\n",
        "    plt.ylabel('loss')\n",
        "    plt.xlabel('epoch')\n",
        "    plt.legend(['train','valid'], loc='upper left')\n",
        "    plt.show()"
      ],
      "execution_count": 0,
      "outputs": []
    },
    {
      "cell_type": "markdown",
      "metadata": {
        "id": "eas46xgPgorY",
        "colab_type": "text"
      },
      "source": [
        "**save dictionnary**"
      ]
    },
    {
      "cell_type": "code",
      "metadata": {
        "id": "IPCwVPwUgu3r",
        "colab_type": "code",
        "colab": {}
      },
      "source": [
        "def create_csv(file):\n",
        "    with open(file, 'w') as csvfile:\n",
        "        writer = csv.writer(csvfile)\n",
        "        for key in tokenizer.word_index.keys():\n",
        "            writer.writerow([key,tokenizer.word_index[key]])"
      ],
      "execution_count": 0,
      "outputs": []
    },
    {
      "cell_type": "markdown",
      "metadata": {
        "id": "2AWfNiUZgwIW",
        "colab_type": "text"
      },
      "source": [
        "# creating the model by using the functions above \n",
        "\n",
        "First we unzip the file that contains tweets"
      ]
    },
    {
      "cell_type": "code",
      "metadata": {
        "id": "41BBd_kRgz0a",
        "colab_type": "code",
        "colab": {}
      },
      "source": [
        "import zipfile\n",
        "path_to_zip_file= \"/content/gdrive/My Drive/PFA/Sentiment-Analysis/Data/clean_tweets.zip\"\n",
        "directory_to_extract_to=\"/content/gdrive/My Drive/PFA/Sentiment-Analysis/Data/clean_tweets.csv\"\n",
        "with zipfile.ZipFile(path_to_zip_file, 'r') as zip_ref:\n",
        "    zip_ref.extractall(directory_to_extract_to)"
      ],
      "execution_count": 0,
      "outputs": []
    },
    {
      "cell_type": "markdown",
      "metadata": {
        "id": "coNXtkoXg_8O",
        "colab_type": "text"
      },
      "source": [
        "We need to divide our dataset into train and test sets. The train set will be used to train our deep learning models while the test set will be used to evaluate how well our model performs.\n",
        "\n",
        "We can use train_test_split method from the sklearn.model.selection module"
      ]
    },
    {
      "cell_type": "code",
      "metadata": {
        "id": "HzFQUo6GhA6M",
        "colab_type": "code",
        "colab": {}
      },
      "source": [
        "# get the tweets and their sentiment\n",
        "dataset_file =\"/content/gdrive/My Drive/PFA/Sentiment-Analysis/Data/clean_tweets.csv/clean_tweets.csv\"\n",
        "X,y = load_dataset(dataset_file)\n",
        "\n",
        "# splitting data \n",
        "X_train, X_test, y_train, y_test = train_test_split(X, y, test_size=0.20, random_state=42)\n",
        "Sentences_train = X_train"
      ],
      "execution_count": 0,
      "outputs": []
    },
    {
      "cell_type": "markdown",
      "metadata": {
        "id": "GNBNy3xlhErC",
        "colab_type": "text"
      },
      "source": [
        "**Preparing the Embedding Layer**\n",
        "\n",
        "As a first step, we will use the Tokenizer class from the keras.preprocessing.text module to create a word-to-index dictionary. In the word-to-index dictionary, each word in the corpus is used as a key, while a corresponding unique index is used as the value for the key."
      ]
    },
    {
      "cell_type": "code",
      "metadata": {
        "id": "ffSrCfwrhISS",
        "colab_type": "code",
        "colab": {}
      },
      "source": [
        "tokenizer = Tokenizer(oov_token = True)\n",
        "tokenizer.fit_on_texts(X_train)\n",
        "X_train = tokenizer.texts_to_sequences(X_train)\n",
        "X_test = tokenizer.texts_to_sequences(X_test)"
      ],
      "execution_count": 0,
      "outputs": []
    },
    {
      "cell_type": "markdown",
      "metadata": {
        "id": "aergaA8ghLNk",
        "colab_type": "text"
      },
      "source": [
        "You will notice that the size of each list is different. This is because sentences have different lengths.\n",
        "\n",
        "We set the maximum size of each list to 100. You can try a different size. The lists with size greater than 100 will be truncated to 100. For the lists that have length less than 100, we will add 0 at the end of the list until it reaches the max length. This process is called padding.\n",
        "\n",
        "The following script finds the vocabulary size and then perform padding on both train and test set."
      ]
    },
    {
      "cell_type": "code",
      "metadata": {
        "id": "IGmAKFPmhOk0",
        "colab_type": "code",
        "colab": {}
      },
      "source": [
        "maxlen = 100 \n",
        "X_train = pad_sequences(X_train, padding='post', maxlen=maxlen)\n",
        "X_test = pad_sequences(X_test, padding='post', maxlen=maxlen)"
      ],
      "execution_count": 0,
      "outputs": []
    },
    {
      "cell_type": "markdown",
      "metadata": {
        "id": "7yh2X8CnhRwJ",
        "colab_type": "text"
      },
      "source": [
        "We will use GloVe embeddings to create our feature matrix. In the following script we load the GloVe word embeddings and create a dictionary that will contain words as keys and their corresponding embedding list as values."
      ]
    },
    {
      "cell_type": "code",
      "metadata": {
        "id": "QSX62SCchUt0",
        "colab_type": "code",
        "colab": {
          "base_uri": "https://localhost:8080/",
          "height": 54
        },
        "outputId": "a1dddaf2-8542-4afb-e578-5697a29ecf7b"
      },
      "source": [
        "glove_file = '/content/gdrive/My Drive/PFA/Sentiment-Analysis/GLOVE/glove.6B.100d.txt'\n",
        "embeddings_dictionary = load_embedding(glove_file)\n",
        "embedding_matrix = create_embedding_matrix(embeddings_dictionary, tokenizer.word_index)\n",
        "\n",
        "# create embedding layer\n",
        "embedding_layer = Embedding(len(tokenizer.word_index)+1, 100, weights=[embedding_matrix], input_length=maxlen, trainable=True)"
      ],
      "execution_count": 15,
      "outputs": [
        {
          "output_type": "stream",
          "text": [
            " vocabulary size : number of unique words in the vocabulary  228200\n",
            " percentage of the vocabulary covered by the pretrained model :  39.260297984224366\n"
          ],
          "name": "stdout"
        }
      ]
    },
    {
      "cell_type": "markdown",
      "metadata": {
        "id": "OowvKm5shaFj",
        "colab_type": "text"
      },
      "source": [
        "**Text Classification with Recurrent Neural Network**\n",
        "\n",
        "Recurrent neural network is a type of neural networks that is proven to work well with sequence data. Since text is actually a sequence of words, a recurrent neural network is an automatic choice to solve text-related problems. In this section, we will use an LSTM (Long Short Term Memory network) which is a variant of RNN, to solve sentiment classification problem."
      ]
    },
    {
      "cell_type": "code",
      "metadata": {
        "id": "JaUgSxI2hYQI",
        "colab_type": "code",
        "colab": {
          "base_uri": "https://localhost:8080/",
          "height": 545
        },
        "outputId": "07503c35-37f2-4fb1-d280-4a360e56ecf6"
      },
      "source": [
        "# create the classifier : convolutional neural network \n",
        "model = Sequential()\n",
        "model = create_classifier(model,embedding_layer)\n",
        "\n",
        "# evaluating the model :  validation-20% from the training set \n",
        "history = model.fit(X_train, y_train, batch_size=1500, epochs=5, verbose=1, validation_split=0.2)\n",
        "\n",
        "# evaluating the model : test set 20% from the whole dataset \n",
        "print(\"Evaluating the test set\")\n",
        "score = model.evaluate(X_test, y_test, verbose=1)"
      ],
      "execution_count": 16,
      "outputs": [
        {
          "output_type": "stream",
          "text": [
            "Model: \"sequential\"\n",
            "_________________________________________________________________\n",
            "Layer (type)                 Output Shape              Param #   \n",
            "=================================================================\n",
            "embedding (Embedding)        (None, 100, 100)          22820000  \n",
            "_________________________________________________________________\n",
            "bidirectional (Bidirectional (None, 200)               160800    \n",
            "_________________________________________________________________\n",
            "dense (Dense)                (None, 100)               20100     \n",
            "_________________________________________________________________\n",
            "dense_1 (Dense)              (None, 1)                 101       \n",
            "=================================================================\n",
            "Total params: 23,001,001\n",
            "Trainable params: 23,001,001\n",
            "Non-trainable params: 0\n",
            "_________________________________________________________________\n",
            "None\n",
            "Epoch 1/5\n",
            "683/683 [==============================] - 328s 480ms/step - loss: 0.4581 - acc: 0.7825 - val_loss: 0.4229 - val_acc: 0.8042\n",
            "Epoch 2/5\n",
            "683/683 [==============================] - 323s 473ms/step - loss: 0.3978 - acc: 0.8190 - val_loss: 0.4095 - val_acc: 0.8126\n",
            "Epoch 3/5\n",
            "683/683 [==============================] - 326s 477ms/step - loss: 0.3653 - acc: 0.8368 - val_loss: 0.4145 - val_acc: 0.8116\n",
            "Epoch 4/5\n",
            "683/683 [==============================] - 325s 476ms/step - loss: 0.3356 - acc: 0.8518 - val_loss: 0.4281 - val_acc: 0.8088\n",
            "Epoch 5/5\n",
            "683/683 [==============================] - 323s 473ms/step - loss: 0.3098 - acc: 0.8639 - val_loss: 0.4505 - val_acc: 0.8087\n",
            "Evaluating the test set\n",
            "10000/10000 [==============================] - 173s 17ms/step - loss: 0.4487 - acc: 0.8093\n"
          ],
          "name": "stdout"
        }
      ]
    },
    {
      "cell_type": "markdown",
      "metadata": {
        "id": "HkOX45_fhnWl",
        "colab_type": "text"
      },
      "source": [
        "In the scipt above, we use the fit method to train our neural network. Notice we are training on our train set only. The validation_split of 0.2 means that 20% of the training data is used to find the training accuracy of the algorithm.\n",
        "\n",
        "To evaluate the performance of the model, we can simply pass the test set to the evaluate method of our model.\n",
        "\n",
        "To check the test accuracy and loss, execute the following script:"
      ]
    },
    {
      "cell_type": "code",
      "metadata": {
        "id": "a3BicHI6hotY",
        "colab_type": "code",
        "colab": {
          "base_uri": "https://localhost:8080/",
          "height": 54
        },
        "outputId": "f9a7cccf-e105-4b42-bdf3-45fd9acbda09"
      },
      "source": [
        "print(\"Test Score    :\", score[0])\n",
        "print(\"Test Accuracy :\", score[1])"
      ],
      "execution_count": 17,
      "outputs": [
        {
          "output_type": "stream",
          "text": [
            "Test Score    : 0.4486716389656067\n",
            "Test Accuracy : 0.8093405961990356\n"
          ],
          "name": "stdout"
        }
      ]
    },
    {
      "cell_type": "markdown",
      "metadata": {
        "id": "MgMGs38uhvAS",
        "colab_type": "text"
      },
      "source": [
        "Let's try to plot the accuracy differences for training and test sets."
      ]
    },
    {
      "cell_type": "code",
      "metadata": {
        "id": "siuB4gg4h0Ik",
        "colab_type": "code",
        "colab": {
          "base_uri": "https://localhost:8080/",
          "height": 573
        },
        "outputId": "7146155d-fb1c-4c4d-fa87-145165475944"
      },
      "source": [
        "draw_plots(history) "
      ],
      "execution_count": 18,
      "outputs": [
        {
          "output_type": "display_data",
          "data": {
            "image/png": "[encoded data removed]",
            "text/plain": [
              "<Figure size 432x288 with 1 Axes>"
            ]
          },
          "metadata": {
            "tags": [],
            "needs_background": "light"
          }
        },
        {
          "output_type": "display_data",
          "data": {
            "image/png": "[encoded data removed]",
            "text/plain": [
              "<Figure size 432x288 with 1 Axes>"
            ]
          },
          "metadata": {
            "tags": [],
            "needs_background": "light"
          }
        }
      ]
    },
    {
      "cell_type": "markdown",
      "metadata": {
        "id": "Mjl1SMenh4CI",
        "colab_type": "text"
      },
      "source": [
        "**Making Predictions on diffrente tweets** \n",
        "\n",
        "To predict the sentiment of this tweets, we have to convert this tweets into numeric form. We can do so using the tokenizer that we created in word embedding section. The text_to_sequences method will convert the sentence into its numeric counter part.\n",
        "\n",
        "Next, we need to pad our input sequence as we did for our corpus. Finally, we can use the predict method of our model and pass it our processed input sequence"
      ]
    },
    {
      "cell_type": "code",
      "metadata": {
        "id": "MgHtOQh8h63u",
        "colab_type": "code",
        "colab": {
          "base_uri": "https://localhost:8080/",
          "height": 72
        },
        "outputId": "bc19176f-0d91-4987-b166-f8089bfe4b65"
      },
      "source": [
        "txt = [\"awesome movie\",\"terrible movie\",\"that movie really sucks\",\"i like that movie\"]\n",
        "txt = tokenizer.texts_to_sequences(txt)\n",
        "txt = pad_sequences(txt, padding='post', maxlen=maxlen)\n",
        "prediction = model.predict(txt)\n",
        "print('\\n prediction for \\n',prediction[:,0])"
      ],
      "execution_count": 19,
      "outputs": [
        {
          "output_type": "stream",
          "text": [
            "\n",
            " prediction for \n",
            " [0.99538344 0.08622628 0.0138272  0.89108914]\n"
          ],
          "name": "stdout"
        }
      ]
    },
    {
      "cell_type": "markdown",
      "metadata": {
        "id": "nBlwoJxMiFiF",
        "colab_type": "text"
      },
      "source": [
        "**Saving Model and Dictionnary**"
      ]
    },
    {
      "cell_type": "code",
      "metadata": {
        "id": "MzeYratOiGSa",
        "colab_type": "code",
        "colab": {}
      },
      "source": [
        "# save model and weights\n",
        "save_model(\n",
        "    model,\n",
        "    \"/content/gdrive/My Drive/PFA/Sentiment-Analysis/TrainedModels/GLOVE/model_LSTM_glove100.h5\",\n",
        "    overwrite=True,\n",
        "    include_optimizer=True\n",
        ")\n",
        "\n",
        "# save vocabulary dictionnary\n",
        "#create_csv('/content/gdrive/My Drive/PFA/Sentiment-Analysis/TrainedModels/GLOVE/dict_sentimentAnalysis.csv')\n"
      ],
      "execution_count": 0,
      "outputs": []
    }
  ]
}