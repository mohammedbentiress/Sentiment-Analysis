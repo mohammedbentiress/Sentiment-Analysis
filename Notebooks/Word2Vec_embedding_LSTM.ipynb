{
  "nbformat": 4,
  "nbformat_minor": 0,
  "metadata": {
    "colab": {
      "name": "Word2Vec_embedding_LSTM.ipynb",
      "provenance": [],
      "authorship_tag": "ABX9TyNXFVSf+uIMWqsr9ohEmtGG",
      "include_colab_link": true
    },
    "kernelspec": {
      "name": "python3",
      "display_name": "Python 3"
    },
    "accelerator": "GPU"
  },
  "cells": [
    {
      "cell_type": "markdown",
      "metadata": {
        "id": "view-in-github",
        "colab_type": "text"
      },
      "source": [
        "<a href=\"https://colab.research.google.com/github/mohammedbentiress/Sentiment-Analysis/blob/master/Word2Vec_embedding_LSTM.ipynb\" target=\"_parent\"><img src=\"https://colab.research.google.com/assets/colab-badge.svg\" alt=\"Open In Colab\"/></a>"
      ]
    },
    {
      "cell_type": "markdown",
      "metadata": {
        "id": "eK85_LGpwT8C",
        "colab_type": "text"
      },
      "source": [
        "## Mounting Google Drive locally"
      ]
    },
    {
      "cell_type": "code",
      "metadata": {
        "id": "VKvVNQugwQg2",
        "colab_type": "code",
        "colab": {
          "base_uri": "https://localhost:8080/",
          "height": 128
        },
        "outputId": "1c541252-29dd-454f-a43b-29c25209d069"
      },
      "source": [
        "from google.colab import drive\n",
        "drive.mount('/content/gdrive')"
      ],
      "execution_count": 2,
      "outputs": [
        {
          "output_type": "stream",
          "text": [
            "Go to this URL in a browser: https://accounts.google.com/o/oauth2/auth?client_id=947318989803-6bn6qk8qdgf4n4g3pfee6491hc0brc4i.apps.googleusercontent.com&redirect_uri=urn%3aietf%3awg%3aoauth%3a2.0%3aoob&response_type=code&scope=email%20https%3a%2f%2fwww.googleapis.com%2fauth%2fdocs.test%20https%3a%2f%2fwww.googleapis.com%2fauth%2fdrive%20https%3a%2f%2fwww.googleapis.com%2fauth%2fdrive.photos.readonly%20https%3a%2f%2fwww.googleapis.com%2fauth%2fpeopleapi.readonly\n",
            "\n",
            "Enter your authorization code:\n",
            "··········\n",
            "Mounted at /content/gdrive\n"
          ],
          "name": "stdout"
        }
      ]
    },
    {
      "cell_type": "markdown",
      "metadata": {
        "id": "u8l0igyxwnY8",
        "colab_type": "text"
      },
      "source": [
        "# Importing Required Libraries"
      ]
    },
    {
      "cell_type": "code",
      "metadata": {
        "id": "SzxDI_uAwp3e",
        "colab_type": "code",
        "colab": {}
      },
      "source": [
        "import re\n",
        "import csv\n",
        "import json\n",
        "import numpy as np\n",
        "import pandas as pd\n",
        "from numpy import array\n",
        "from numpy import zeros\n",
        "from numpy import asarray\n",
        "import matplotlib.pyplot as plt\n",
        "from tensorflow.keras import Sequential\n",
        "from tensorflow.keras.models import save_model\n",
        "from sklearn.model_selection import train_test_split\n",
        "from tensorflow.keras.preprocessing.text import one_hot\n",
        "from tensorflow.keras.preprocessing.text import Tokenizer\n",
        "from tensorflow.keras.preprocessing.sequence import pad_sequences\n",
        "from tensorflow.keras.layers import Activation, Dropout, Dense, Flatten, GlobalMaxPool1D, Embedding, Conv1D, LSTM, GRU,Bidirectional,SpatialDropout1D\n",
        "from gensim.models import Word2Vec\n",
        "from gensim.utils import simple_preprocess\n",
        "from gensim.models.keyedvectors import KeyedVectors"
      ],
      "execution_count": 0,
      "outputs": []
    },
    {
      "cell_type": "markdown",
      "metadata": {
        "id": "FIpRdJuUw2Ej",
        "colab_type": "text"
      },
      "source": [
        "# Define functions for treatement"
      ]
    },
    {
      "cell_type": "code",
      "metadata": {
        "id": "0d6dqNoFw7yJ",
        "colab_type": "code",
        "colab": {}
      },
      "source": [
        "\n",
        "# extracting  data from dataset tweet-sentiment\n",
        "def load_dataset(filename):\n",
        "    # read the dataset \n",
        "    tweets = pd.read_csv(filename, encoding=\"ISO-8859-1\")\n",
        "\n",
        "    # tweet listing\n",
        "    text = []\n",
        "    sentences = list(tweets['tweet'].astype(str))\n",
        "    for sen in sentences:\n",
        "        text.append(sen)\n",
        "\n",
        "    # sentiment listing\n",
        "    label = tweets['sentiment']\n",
        "    label = np.array(list(map(lambda x: 1 if x==\"positive\" else 0, label)))\n",
        "    \n",
        "    return text,label\n",
        "\n",
        "# load the embedding model \n",
        "def create_embedding_matrix(filename,vocabulary):\n",
        "    vocab_size = len(vocabulary) + 1\n",
        "    word_vectors = KeyedVectors.load_word2vec_format(filename, binary=True)\n",
        "    embedding_mat = zeros((vocab_size, embedding_dim))\n",
        "    for word, index in vocabulary.items():\n",
        "        try:\n",
        "            embedding_vector = word_vectors.get_vector(word)\n",
        "            if embedding_vector is not None:\n",
        "                embedding_mat[index] = embedding_vector\n",
        "\n",
        "        except KeyError:\n",
        "            embedding_mat[index]=np.random.normal(0,np.sqrt(0.25),embedding_dim)\n",
        "    del(word_vectors)\n",
        "\n",
        "    nonzero_elements = np.count_nonzero(np.count_nonzero(embedding_mat, axis=1))\n",
        "    # print some informations about our vocabulary\n",
        "    print(\" vocabulary size : number of unique words in the vocabulary \",vocab_size)\n",
        "    print(\" percentage of the vocabulary covered by the pretrained model : \",(nonzero_elements/vocab_size)*100)\n",
        "    return embedding_mat\n",
        "\n",
        "\n",
        "# creating the classification model\n",
        "def create_classifier(classification_model,embeddings):\n",
        "    #add layers\n",
        "    classification_model.add(embeddings)\n",
        "    classification_model.add(Bidirectional(LSTM(300)))\n",
        "    classification_model.add(Dense(300, activation='relu'))\n",
        "    classification_model.add(Dense(1, activation='sigmoid'))\n",
        "    \n",
        "    # compile \n",
        "    classification_model.compile(optimizer='adam', loss='binary_crossentropy', metrics=['acc'])\n",
        "    \n",
        "    # print summary of the model\n",
        "    print(classification_model.summary())\n",
        "    return classification_model\n",
        "\n",
        "\n",
        "# draw plots\n",
        "def draw_plots(model_history):\n",
        "    \n",
        "    # accuracy plot\n",
        "    plt.plot(model_history.history['acc'])\n",
        "    plt.plot(model_history.history['val_acc'])\n",
        "    plt.title('model accuracy')\n",
        "    plt.ylabel('accuracy')\n",
        "    plt.xlabel('epoch')\n",
        "    plt.legend(['train','valid'], loc='upper left')\n",
        "    plt.show()\n",
        "\n",
        "    # loss plot\n",
        "    plt.plot(model_history.history['loss'])\n",
        "    plt.plot(model_history.history['val_loss'])\n",
        "    plt.title('model loss')\n",
        "    plt.ylabel('loss')\n",
        "    plt.xlabel('epoch')\n",
        "    plt.legend(['train','valid'], loc='upper left')\n",
        "    plt.show()\n"
      ],
      "execution_count": 0,
      "outputs": []
    },
    {
      "cell_type": "markdown",
      "metadata": {
        "id": "gTBvheaayB5K",
        "colab_type": "text"
      },
      "source": [
        "# creating the model by using the functions above \n",
        "\n",
        "First we unzip the file that contains tweets"
      ]
    },
    {
      "cell_type": "code",
      "metadata": {
        "id": "h9E6cLAryC98",
        "colab_type": "code",
        "colab": {}
      },
      "source": [
        "import zipfile\n",
        "path_to_zip_file= \"/content/gdrive/My Drive/PFA/Sentiment-Analysis/Data/clean_tweets.zip\"\n",
        "directory_to_extract_to=\"/content/gdrive/My Drive/PFA/Sentiment-Analysis/Data/clean_tweets.csv\"\n",
        "with zipfile.ZipFile(path_to_zip_file, 'r') as zip_ref:\n",
        "    zip_ref.extractall(directory_to_extract_to)"
      ],
      "execution_count": 0,
      "outputs": []
    },
    {
      "cell_type": "markdown",
      "metadata": {
        "id": "NvDYvm_XyILc",
        "colab_type": "text"
      },
      "source": [
        "we need to divide our dataset into train and test sets. The train set will be used to train our deep learning models while the test set will be used to evaluate how well our model performs.\n",
        "\n",
        "We can use train_test_split method from the sklearn.model.selection module"
      ]
    },
    {
      "cell_type": "code",
      "metadata": {
        "id": "7apAtY9KyJYv",
        "colab_type": "code",
        "colab": {}
      },
      "source": [
        "# get the tweets and their sentiment\n",
        "dataset_file =\"/content/gdrive/My Drive/PFA/Sentiment-Analysis/Data/clean_tweets.csv/clean_tweets.csv\"\n",
        "X,y = load_dataset(dataset_file)\n",
        "\n",
        "# splitting data \n",
        "X_train, X_test, y_train, y_test = train_test_split(X, y, test_size=0.20, random_state=42)\n",
        "Sentences_train = X_train"
      ],
      "execution_count": 0,
      "outputs": []
    },
    {
      "cell_type": "markdown",
      "metadata": {
        "id": "oBiBZKJ5yU0N",
        "colab_type": "text"
      },
      "source": [
        "**Preparing the Embedding Layer**\n",
        "\n",
        "As a first step, we will use the Tokenizer class from the keras.preprocessing.text module to create a word-to-index dictionary. In the word-to-index dictionary, each word in the corpus is used as a key, while a corresponding unique index is used as the value for the key."
      ]
    },
    {
      "cell_type": "code",
      "metadata": {
        "id": "Yjqo4p8dyX8k",
        "colab_type": "code",
        "colab": {}
      },
      "source": [
        "tokenizer = Tokenizer(oov_token = True)\n",
        "tokenizer.fit_on_texts(X_train)\n",
        "X_train = tokenizer.texts_to_sequences(X_train)\n",
        "X_test = tokenizer.texts_to_sequences(X_test)"
      ],
      "execution_count": 0,
      "outputs": []
    },
    {
      "cell_type": "markdown",
      "metadata": {
        "id": "beBiQ0-Jyam8",
        "colab_type": "text"
      },
      "source": [
        "You will notice that the size of each list is different. This is because sentences have different lengths.\n",
        "\n",
        "We set the maximum size of each list to 100. You can try a different size. The lists with size greater than 100 will be truncated to 100. For the lists that have length less than 100, we will add 0 at the end of the list until it reaches the max length. This process is called padding.\n",
        "\n",
        "The following script finds the vocabulary size and then perform padding on both train and test set."
      ]
    },
    {
      "cell_type": "code",
      "metadata": {
        "id": "4PFex4p_yiWe",
        "colab_type": "code",
        "colab": {}
      },
      "source": [
        "maxlen = 100 \n",
        "X_train = pad_sequences(X_train, padding='post', maxlen=maxlen)\n",
        "X_test = pad_sequences(X_test, padding='post', maxlen=maxlen)"
      ],
      "execution_count": 0,
      "outputs": []
    },
    {
      "cell_type": "markdown",
      "metadata": {
        "id": "fFvzj0g1ylCv",
        "colab_type": "text"
      },
      "source": [
        "We will use GloVe embeddings to create our feature matrix.\n",
        "Convolutional neural networks have been found to work well with text data as well. Though text data is one-dimensional, we can use 1D convolutional neural networks to extract features from our data."
      ]
    },
    {
      "cell_type": "code",
      "metadata": {
        "id": "VMQyGJEvypvh",
        "colab_type": "code",
        "colab": {
          "base_uri": "https://localhost:8080/",
          "height": 110
        },
        "outputId": "ac3ac66b-c2f8-413b-ef15-118391166114"
      },
      "source": [
        "#!wget -P '/content/gdrive/My Drive/PFA/Sentiment-Analysis/WORD2VEC/GoogleNews-vectors-negative300.bin.gz' -c \"https://s3.amazonaws.com/dl4j-distribution/GoogleNews-vectors-negative300.bin.gz\"\n",
        "embedding_dim = 300\n",
        "word2vec_file = '/content/gdrive/My Drive/PFA/Sentiment-Analysis/WORD2VEC/GoogleNews-vectors-negative300.bin.gz/GoogleNews-vectors-negative300.bin.gz'\n",
        "embedding_matrix = create_embedding_matrix(word2vec_file, tokenizer.word_index)\n",
        "\n",
        "# create embedding layer\n",
        "embedding_layer = Embedding(len(tokenizer.word_index)+1, embedding_dim, weights=[embedding_matrix], input_length=maxlen, trainable=True)"
      ],
      "execution_count": 9,
      "outputs": [
        {
          "output_type": "stream",
          "text": [
            "/usr/local/lib/python3.6/dist-packages/smart_open/smart_open_lib.py:253: UserWarning: This function is deprecated, use smart_open.open instead. See the migration notes for details: https://github.com/RaRe-Technologies/smart_open/blob/master/README.rst#migrating-to-the-new-open-function\n",
            "  'See the migration notes for details: %s' % _MIGRATION_NOTES_URL\n"
          ],
          "name": "stderr"
        },
        {
          "output_type": "stream",
          "text": [
            " vocabulary size : number of unique words in the vocabulary  228200\n",
            " percentage of the vocabulary covered by the pretrained model :  99.99956178790535\n"
          ],
          "name": "stdout"
        }
      ]
    },
    {
      "cell_type": "markdown",
      "metadata": {
        "id": "TCduOGQhy4wh",
        "colab_type": "text"
      },
      "source": [
        "**Text Classification with  Convolutional Neural Network**\n",
        "\n",
        "Convolutional neural networks have been found to work well with text data as well. Though text data is one-dimensional, we can use 1D convolutional neural networks to extract features from our data"
      ]
    },
    {
      "cell_type": "code",
      "metadata": {
        "id": "K6ahQ6FgzEqe",
        "colab_type": "code",
        "colab": {
          "base_uri": "https://localhost:8080/",
          "height": 545
        },
        "outputId": "b2cdfb9e-80bb-4e29-b908-c6137c1ff9de"
      },
      "source": [
        "# create the classifier : convolutional neural network \n",
        "model = Sequential()\n",
        "model = create_classifier(model,embedding_layer)\n",
        "\n",
        "# evaluating the model :  validation-20% from the training set \n",
        "history = model.fit(X_train, y_train, batch_size=1500, epochs=5, verbose=1, validation_split=0.2)\n",
        "\n",
        "# evaluating the model : test set 20% from the whole dataset \n",
        "print(\"Evaluating the test set\")\n",
        "score = model.evaluate(X_test, y_test, verbose=1)"
      ],
      "execution_count": 10,
      "outputs": [
        {
          "output_type": "stream",
          "text": [
            "Model: \"sequential\"\n",
            "_________________________________________________________________\n",
            "Layer (type)                 Output Shape              Param #   \n",
            "=================================================================\n",
            "embedding (Embedding)        (None, 100, 300)          68460000  \n",
            "_________________________________________________________________\n",
            "bidirectional (Bidirectional (None, 600)               1442400   \n",
            "_________________________________________________________________\n",
            "dense (Dense)                (None, 300)               180300    \n",
            "_________________________________________________________________\n",
            "dense_1 (Dense)              (None, 1)                 301       \n",
            "=================================================================\n",
            "Total params: 70,083,001\n",
            "Trainable params: 70,083,001\n",
            "Non-trainable params: 0\n",
            "_________________________________________________________________\n",
            "None\n",
            "Epoch 1/5\n",
            "683/683 [==============================] - 648s 949ms/step - loss: 0.4394 - acc: 0.7940 - val_loss: 0.4110 - val_acc: 0.8108\n",
            "Epoch 2/5\n",
            "683/683 [==============================] - 639s 936ms/step - loss: 0.3821 - acc: 0.8273 - val_loss: 0.4061 - val_acc: 0.8156\n",
            "Epoch 3/5\n",
            "683/683 [==============================] - 633s 927ms/step - loss: 0.3428 - acc: 0.8480 - val_loss: 0.4175 - val_acc: 0.8146\n",
            "Epoch 4/5\n",
            "683/683 [==============================] - 634s 928ms/step - loss: 0.2983 - acc: 0.8700 - val_loss: 0.4595 - val_acc: 0.8097\n",
            "Epoch 5/5\n",
            "683/683 [==============================] - 626s 917ms/step - loss: 0.2547 - acc: 0.8901 - val_loss: 0.5382 - val_acc: 0.8063\n",
            "Evaluating the test set\n",
            "10000/10000 [==============================] - 90s 9ms/step - loss: 0.5428 - acc: 0.8071\n"
          ],
          "name": "stdout"
        }
      ]
    },
    {
      "cell_type": "markdown",
      "metadata": {
        "id": "XSDKh4SzzMhq",
        "colab_type": "text"
      },
      "source": [
        "In the scipt above, we use the fit method to train our neural network. Notice we are training on our train set only. The validation_split of 0.2 means that 20% of the training data is used to find the training accuracy of the algorithm.\n",
        "\n",
        "To evaluate the performance of the model, we can simply pass the test set to the evaluate method of our model.\n",
        "\n",
        "To check the test accuracy and loss, execute the following script:"
      ]
    },
    {
      "cell_type": "code",
      "metadata": {
        "id": "qbMOMWQdzOmw",
        "colab_type": "code",
        "colab": {
          "base_uri": "https://localhost:8080/",
          "height": 54
        },
        "outputId": "b2941019-b882-4b1a-c03e-835bce5f4ed0"
      },
      "source": [
        "print(\"Test Score    :\", score[0])\n",
        "print(\"Test Accuracy :\", score[1])"
      ],
      "execution_count": 11,
      "outputs": [
        {
          "output_type": "stream",
          "text": [
            "Test Score    : 0.5427528619766235\n",
            "Test Accuracy : 0.8071218729019165\n"
          ],
          "name": "stdout"
        }
      ]
    },
    {
      "cell_type": "markdown",
      "metadata": {
        "id": "RgKVaudtzSjn",
        "colab_type": "text"
      },
      "source": [
        "Let's try to plot the accuracy differences for training and test sets."
      ]
    },
    {
      "cell_type": "code",
      "metadata": {
        "id": "ZHWyCtIRzXpi",
        "colab_type": "code",
        "colab": {
          "base_uri": "https://localhost:8080/",
          "height": 573
        },
        "outputId": "691f0b0a-3add-44e8-fc6f-f88a80d2fbb9"
      },
      "source": [
        "draw_plots(history) "
      ],
      "execution_count": 12,
      "outputs": [
        {
          "output_type": "display_data",
          "data": {
            "image/png": "[encoded data removed]",
            "text/plain": [
              "<Figure size 432x288 with 1 Axes>"
            ]
          },
          "metadata": {
            "tags": [],
            "needs_background": "light"
          }
        },
        {
          "output_type": "display_data",
          "data": {
            "image/png": "[encoded data removed]",
            "text/plain": [
              "<Figure size 432x288 with 1 Axes>"
            ]
          },
          "metadata": {
            "tags": [],
            "needs_background": "light"
          }
        }
      ]
    },
    {
      "cell_type": "markdown",
      "metadata": {
        "id": "ePkpJinWza4z",
        "colab_type": "text"
      },
      "source": [
        "**Making Predictions on diffrente tweets** \n",
        "\n",
        "To predict the sentiment of this tweets, we have to convert this tweets into numeric form. We can do so using the tokenizer that we created in word embedding section. The text_to_sequences method will convert the sentence into its numeric counter part.\n",
        "\n",
        "Next, we need to pad our input sequence as we did for our corpus. Finally, we can use the predict method of our model and pass it our processed input sequence"
      ]
    },
    {
      "cell_type": "code",
      "metadata": {
        "id": "2bQ29WenzeHy",
        "colab_type": "code",
        "colab": {
          "base_uri": "https://localhost:8080/",
          "height": 72
        },
        "outputId": "a32a3287-e04c-43b3-b3d7-2331796e909d"
      },
      "source": [
        "txt = [\"awesome movie\",\"terrible movie\",\"that movie really sucks\",\"i like that movie\"]\n",
        "txt = tokenizer.texts_to_sequences(txt)\n",
        "txt = pad_sequences(txt, padding='post', maxlen=maxlen)\n",
        "prediction = model.predict(txt)\n",
        "print('\\n prediction for \\n',prediction[:,0])"
      ],
      "execution_count": 13,
      "outputs": [
        {
          "output_type": "stream",
          "text": [
            "\n",
            " prediction for \n",
            " [0.99761    0.01715513 0.01841559 0.99669516]\n"
          ],
          "name": "stdout"
        }
      ]
    },
    {
      "cell_type": "markdown",
      "metadata": {
        "id": "26mCB8mpziSr",
        "colab_type": "text"
      },
      "source": [
        "**Saving Model and Dictionnary**"
      ]
    },
    {
      "cell_type": "code",
      "metadata": {
        "id": "0IaBkjt0zn29",
        "colab_type": "code",
        "colab": {}
      },
      "source": [
        "# save model and weights\n",
        "save_model(\n",
        "    model,\n",
        "    \"/content/gdrive/My Drive/PFA/Sentiment-Analysis/TrainedModels/WORD2VEC/model_LSTM_word2vec300.h5\",\n",
        "    overwrite=True,\n",
        "    include_optimizer=True\n",
        ")\n",
        "\n",
        "# save vocabulary dictionnary\n",
        "#create_csv('/content/gdrive/My Drive/PFA/Sentiment-Analysis/TrainedModels/GLOVE/dict_sentimentAnalysis.csv')\n"
      ],
      "execution_count": 0,
      "outputs": []
    }
  ]
}