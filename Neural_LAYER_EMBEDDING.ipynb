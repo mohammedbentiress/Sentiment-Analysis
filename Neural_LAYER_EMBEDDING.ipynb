{
  "nbformat": 4,
  "nbformat_minor": 0,
  "metadata": {
    "colab": {
      "name": "Neural_LAYER_EMBEDDING.ipynb",
      "provenance": [],
      "authorship_tag": "ABX9TyMZP3p5TEG8khixYGDEvQIA",
      "include_colab_link": true
    },
    "kernelspec": {
      "name": "python3",
      "display_name": "Python 3"
    }
  },
  "cells": [
    {
      "cell_type": "markdown",
      "metadata": {
        "id": "view-in-github",
        "colab_type": "text"
      },
      "source": [
        "<a href=\"https://colab.research.google.com/github/mohammedbentiress/Sentiment-Analysis/blob/master/Neural_LAYER_EMBEDDING.ipynb\" target=\"_parent\"><img src=\"https://colab.research.google.com/assets/colab-badge.svg\" alt=\"Open In Colab\"/></a>"
      ]
    },
    {
      "cell_type": "markdown",
      "metadata": {
        "id": "FoDEeV24wrpv",
        "colab_type": "text"
      },
      "source": [
        "## Mounting Google Drive locally"
      ]
    },
    {
      "cell_type": "code",
      "metadata": {
        "id": "G6cwBRRrS8fq",
        "colab_type": "code",
        "colab": {
          "base_uri": "https://localhost:8080/",
          "height": 128
        },
        "outputId": "6b4b3170-bfa7-454f-b23b-977e37b2cc2e"
      },
      "source": [
        "from google.colab import drive\n",
        "drive.mount('/content/gdrive')"
      ],
      "execution_count": 1,
      "outputs": [
        {
          "output_type": "stream",
          "text": [
            "Go to this URL in a browser: https://accounts.google.com/o/oauth2/auth?client_id=947318989803-6bn6qk8qdgf4n4g3pfee6491hc0brc4i.apps.googleusercontent.com&redirect_uri=urn%3aietf%3awg%3aoauth%3a2.0%3aoob&response_type=code&scope=email%20https%3a%2f%2fwww.googleapis.com%2fauth%2fdocs.test%20https%3a%2f%2fwww.googleapis.com%2fauth%2fdrive%20https%3a%2f%2fwww.googleapis.com%2fauth%2fdrive.photos.readonly%20https%3a%2f%2fwww.googleapis.com%2fauth%2fpeopleapi.readonly\n",
            "\n",
            "Enter your authorization code:\n",
            "··········\n",
            "Mounted at /content/gdrive\n"
          ],
          "name": "stdout"
        }
      ]
    },
    {
      "cell_type": "markdown",
      "metadata": {
        "id": "apWL-y9mTnW9",
        "colab_type": "text"
      },
      "source": [
        "# Importing Required Libraries"
      ]
    },
    {
      "cell_type": "code",
      "metadata": {
        "id": "JjWPmMRzTu2y",
        "colab_type": "code",
        "colab": {}
      },
      "source": [
        "import csv\n",
        "import numpy as np\n",
        "import pandas as pd\n",
        "from numpy import array\n",
        "from numpy import zeros\n",
        "from numpy import asarray\n",
        "import matplotlib.pyplot as plt\n",
        "from tensorflow.keras import Sequential\n",
        "from tensorflow.keras.models import save_model\n",
        "from sklearn.model_selection import train_test_split\n",
        "from tensorflow.keras.preprocessing.text import one_hot\n",
        "from tensorflow.keras.preprocessing.text import Tokenizer\n",
        "from tensorflow.keras.preprocessing.sequence import pad_sequences\n",
        "from tensorflow.keras.layers import Activation, Dropout, Dense, Flatten, GlobalMaxPool1D, Embedding, Conv1D, LSTM, MaxPooling1D"
      ],
      "execution_count": 0,
      "outputs": []
    },
    {
      "cell_type": "markdown",
      "metadata": {
        "id": "01kqw6-YT08a",
        "colab_type": "text"
      },
      "source": [
        "# define functions for treatement"
      ]
    },
    {
      "cell_type": "markdown",
      "metadata": {
        "id": "IgH3pr72T7pq",
        "colab_type": "text"
      },
      "source": [
        "**extracting  data from dataset tweet-sentiment**"
      ]
    },
    {
      "cell_type": "code",
      "metadata": {
        "id": "K83LX_gpT2nk",
        "colab_type": "code",
        "colab": {}
      },
      "source": [
        "def load_dataset(filename):\n",
        "    # read the dataset \n",
        "    tweets = pd.read_csv(filename, encoding=\"ISO-8859-1\")\n",
        "\n",
        "    # tweet listing\n",
        "    text = []\n",
        "    sentences = list(tweets['tweet'].astype(str))\n",
        "    for sen in sentences:\n",
        "        text.append(sen)\n",
        "\n",
        "    # sentiment listing\n",
        "    label = tweets['sentiment']\n",
        "    label = np.array(list(map(lambda x: 1 if x==\"positive\" else 0, label)))\n",
        "    \n",
        "    return text,label"
      ],
      "execution_count": 0,
      "outputs": []
    },
    {
      "cell_type": "markdown",
      "metadata": {
        "id": "I6L5Kft8T__r",
        "colab_type": "text"
      },
      "source": [
        "**load the embedding model**"
      ]
    },
    {
      "cell_type": "code",
      "metadata": {
        "id": "dakTF9gvUD5L",
        "colab_type": "code",
        "colab": {}
      },
      "source": [
        "def load_embedding(filename):\n",
        "    # create the  embedding dictionnary\n",
        "    embeddings_dict = dict()\n",
        "    emb_file = open(filename, encoding='utf8')\n",
        "    for line in emb_file:\n",
        "        records = line.split()\n",
        "        word = records[0]\n",
        "        vector_dimensions = asarray(records[1:], dtype='float32')\n",
        "        embeddings_dict [word] = vector_dimensions\n",
        "    emb_file.close()\n",
        "    return embeddings_dict"
      ],
      "execution_count": 0,
      "outputs": []
    },
    {
      "cell_type": "markdown",
      "metadata": {
        "id": "vLxvXvZNUQan",
        "colab_type": "text"
      },
      "source": [
        "**create the sentiment classifier**"
      ]
    },
    {
      "cell_type": "code",
      "metadata": {
        "id": "5JlR0nr_UUn3",
        "colab_type": "code",
        "colab": {}
      },
      "source": [
        "def create_classifier(classification_model,embeddings):\n",
        "    # add layers\n",
        "    classification_model.add(embeddings)\n",
        "    classification_model.add(Conv1D(128, 5, activation='relu'))\n",
        "    classification_model.add(GlobalMaxPool1D())\n",
        "    classification_model.add(Dense(1, activation='sigmoid'))\n",
        "    \n",
        "    # compile \n",
        "    classification_model.compile(optimizer='adam', loss='binary_crossentropy', metrics=['acc'])\n",
        "    \n",
        "    #print summary of the model\n",
        "    print(classification_model.summary())\n",
        "    return classification_model\n",
        "    "
      ],
      "execution_count": 0,
      "outputs": []
    },
    {
      "cell_type": "markdown",
      "metadata": {
        "id": "gZqlWGkWUX8n",
        "colab_type": "text"
      },
      "source": [
        "**drawing plots for modeling accuracy and loss of the validation set**"
      ]
    },
    {
      "cell_type": "code",
      "metadata": {
        "id": "G9w4CSiaUcUm",
        "colab_type": "code",
        "colab": {}
      },
      "source": [
        "def draw_plots(model_history):\n",
        "    \n",
        "    # accuracy plot\n",
        "    plt.plot(model_history.history['acc'])\n",
        "    plt.plot(model_history.history['val_acc'])\n",
        "    plt.title('model accuracy')\n",
        "    plt.ylabel('accuracy')\n",
        "    plt.xlabel('epoch')\n",
        "    plt.legend(['train','valid'], loc='upper left')\n",
        "    plt.show()\n",
        "\n",
        "    # loss plot\n",
        "    plt.plot(model_history.history['loss'])\n",
        "    plt.plot(model_history.history['val_loss'])\n",
        "    plt.title('model loss')\n",
        "    plt.ylabel('loss')\n",
        "    plt.xlabel('epoch')\n",
        "    plt.legend(['train','valid'], loc='upper left')\n",
        "    plt.show()"
      ],
      "execution_count": 0,
      "outputs": []
    },
    {
      "cell_type": "markdown",
      "metadata": {
        "id": "50LyY5f8Uf0v",
        "colab_type": "text"
      },
      "source": [
        "**save dictionnary**"
      ]
    },
    {
      "cell_type": "code",
      "metadata": {
        "id": "nCpqDrshUiVJ",
        "colab_type": "code",
        "colab": {}
      },
      "source": [
        "def create_csv(file):\n",
        "    with open(file, 'w') as csvfile:\n",
        "        writer = csv.writer(csvfile)\n",
        "        for key in tokenizer.word_index.keys():\n",
        "            writer.writerow([key,tokenizer.word_index[key]])"
      ],
      "execution_count": 0,
      "outputs": []
    },
    {
      "cell_type": "markdown",
      "metadata": {
        "id": "pbgfnp4gUpC-",
        "colab_type": "text"
      },
      "source": [
        "# creating the model by using the functions above "
      ]
    },
    {
      "cell_type": "markdown",
      "metadata": {
        "id": "q5U4bvKuaPmt",
        "colab_type": "text"
      },
      "source": [
        "First we unzip the file that contains tweets"
      ]
    },
    {
      "cell_type": "code",
      "metadata": {
        "id": "i3usn6N-UunJ",
        "colab_type": "code",
        "colab": {}
      },
      "source": [
        "import zipfile\n",
        "path_to_zip_file= \"/content/gdrive/My Drive/PFA/Sentiment-Analysis/Data/clean_tweets.zip\"\n",
        "directory_to_extract_to=\"/content/gdrive/My Drive/PFA/Sentiment-Analysis/Data/clean_tweets.csv\"\n",
        "with zipfile.ZipFile(path_to_zip_file, 'r') as zip_ref:\n",
        "    zip_ref.extractall(directory_to_extract_to)"
      ],
      "execution_count": 0,
      "outputs": []
    },
    {
      "cell_type": "markdown",
      "metadata": {
        "id": "LVZCx6e9Uyc9",
        "colab_type": "text"
      },
      "source": [
        "we need to divide our dataset into train and test sets. The train set will be used to train our deep learning models while the test set will be used to evaluate how well our model performs.\n",
        "\n",
        "We can use train_test_split method from the sklearn.model.selection module"
      ]
    },
    {
      "cell_type": "code",
      "metadata": {
        "id": "6oIOFDymU2Iz",
        "colab_type": "code",
        "colab": {}
      },
      "source": [
        "# get the tweets and their sentiment\n",
        "dataset_file =\"/content/gdrive/My Drive/PFA/Sentiment-Analysis/Data/clean_tweets.csv/clean_tweets.csv\"\n",
        "X,y = load_dataset(dataset_file)\n",
        "\n",
        "# splitting data \n",
        "X_train, X_test, y_train, y_test = train_test_split(X, y, test_size=0.20, random_state=42)\n",
        "Sentences_train = X_train"
      ],
      "execution_count": 0,
      "outputs": []
    },
    {
      "cell_type": "markdown",
      "metadata": {
        "id": "sKWAN5l8U6-x",
        "colab_type": "text"
      },
      "source": [
        "**Preparing the Embedding Layer**\n",
        "\n",
        "As a first step, we will use the Tokenizer class from the keras.preprocessing.text module to create a word-to-index dictionary. In the word-to-index dictionary, each word in the corpus is used as a key, while a corresponding unique index is used as the value for the key."
      ]
    },
    {
      "cell_type": "code",
      "metadata": {
        "id": "mQdoOTuWU-BS",
        "colab_type": "code",
        "colab": {}
      },
      "source": [
        "tokenizer = Tokenizer(oov_token = True)\n",
        "tokenizer.fit_on_texts(X_train)\n",
        "X_train = tokenizer.texts_to_sequences(X_train)\n",
        "X_test = tokenizer.texts_to_sequences(X_test)"
      ],
      "execution_count": 0,
      "outputs": []
    },
    {
      "cell_type": "markdown",
      "metadata": {
        "id": "RhpdP4cvVBMs",
        "colab_type": "text"
      },
      "source": [
        "You will notice that the size of each list is different. This is because sentences have different lengths.\n",
        "\n",
        "We set the maximum size of each list to 100. You can try a different size. The lists with size greater than 100 will be truncated to 100. For the lists that have length less than 100, we will add 0 at the end of the list until it reaches the max length. This process is called padding.\n",
        "\n",
        "The following script finds the vocabulary size and then perform padding on both train and test set."
      ]
    },
    {
      "cell_type": "code",
      "metadata": {
        "id": "qLF6ix2OVF6p",
        "colab_type": "code",
        "colab": {}
      },
      "source": [
        "maxlen = 100 \n",
        "X_train = pad_sequences(X_train, padding='post', maxlen=maxlen)\n",
        "X_test = pad_sequences(X_test, padding='post', maxlen=maxlen)"
      ],
      "execution_count": 0,
      "outputs": []
    },
    {
      "cell_type": "markdown",
      "metadata": {
        "id": "UqaguHlUVJaH",
        "colab_type": "text"
      },
      "source": [
        "**Text Classification with  Convolutional Neural Network**\n",
        "\n",
        "We will use Keras embeddings layer.\n",
        "Convolutional neural networks have been found to work well with text data as well. Though text data is one-dimensional, we can use 1D convolutional neural networks to extract features from our data."
      ]
    },
    {
      "cell_type": "code",
      "metadata": {
        "id": "epdZ4JTxVSMB",
        "colab_type": "code",
        "colab": {
          "base_uri": "https://localhost:8080/",
          "height": 545
        },
        "outputId": "7db961b4-ecbb-4b99-cca5-1709cd6e56c4"
      },
      "source": [
        "vocab_size = len(tokenizer.word_index) + 1 \n",
        "# create embedding layer\n",
        "embedding_layer = Embedding(input_dim=vocab_size,output_dim=100,input_length=maxlen)\n",
        "# create the classifier : convolutional neural network \n",
        "model = Sequential()\n",
        "model = create_classifier(model,embedding_layer)\n",
        "\n",
        "# evaluating the model :  validation-20% from the training set \n",
        "history = model.fit(X_train, y_train, batch_size=1500, epochs=5, verbose=1, validation_split=0.2)\n",
        "\n",
        "# evaluating the model : test set 20% from the whole dataset \n",
        "print(\"Evaluating the test set\")\n",
        "score = model.evaluate(X_test, y_test, verbose=1)"
      ],
      "execution_count": 13,
      "outputs": [
        {
          "output_type": "stream",
          "text": [
            "Model: \"sequential_1\"\n",
            "_________________________________________________________________\n",
            "Layer (type)                 Output Shape              Param #   \n",
            "=================================================================\n",
            "embedding_1 (Embedding)      (None, 100, 100)          22820000  \n",
            "_________________________________________________________________\n",
            "conv1d_1 (Conv1D)            (None, 96, 128)           64128     \n",
            "_________________________________________________________________\n",
            "global_max_pooling1d_1 (Glob (None, 128)               0         \n",
            "_________________________________________________________________\n",
            "dense_1 (Dense)              (None, 1)                 129       \n",
            "=================================================================\n",
            "Total params: 22,884,257\n",
            "Trainable params: 22,884,257\n",
            "Non-trainable params: 0\n",
            "_________________________________________________________________\n",
            "None\n",
            "Epoch 1/5\n",
            "683/683 [==============================] - 1010s 1s/step - loss: 0.4480 - acc: 0.7899 - val_loss: 0.4160 - val_acc: 0.8095\n",
            "Epoch 2/5\n",
            "683/683 [==============================] - 1012s 1s/step - loss: 0.3744 - acc: 0.8333 - val_loss: 0.4155 - val_acc: 0.8114\n",
            "Epoch 3/5\n",
            "683/683 [==============================] - 1010s 1s/step - loss: 0.3183 - acc: 0.8640 - val_loss: 0.4345 - val_acc: 0.8053\n",
            "Epoch 4/5\n",
            "683/683 [==============================] - 1022s 1s/step - loss: 0.2693 - acc: 0.8882 - val_loss: 0.4620 - val_acc: 0.7995\n",
            "Epoch 5/5\n",
            "683/683 [==============================] - 1017s 1s/step - loss: 0.2311 - acc: 0.9065 - val_loss: 0.5004 - val_acc: 0.7924\n",
            "Evaluating the test set\n",
            "10000/10000 [==============================] - 95s 9ms/step - loss: 0.5006 - acc: 0.7914\n"
          ],
          "name": "stdout"
        }
      ]
    },
    {
      "cell_type": "markdown",
      "metadata": {
        "id": "GONbwDXjXZIW",
        "colab_type": "text"
      },
      "source": [
        "In the scipt above, we use the fit method to train our neural network. Notice we are training on our train set only. The validation_split of 0.2 means that 20% of the training data is used to find the training accuracy of the algorithm.\n",
        "\n",
        "To evaluate the performance of the model, we can simply pass the test set to the evaluate method of our model.\n",
        "\n",
        "To check the test accuracy and loss, execute the following script:"
      ]
    },
    {
      "cell_type": "code",
      "metadata": {
        "id": "q51FddpsXar0",
        "colab_type": "code",
        "colab": {
          "base_uri": "https://localhost:8080/",
          "height": 54
        },
        "outputId": "01257383-5894-4e83-caaa-4af447fd3951"
      },
      "source": [
        "print(\"Test Score    :\", score[0])\n",
        "print(\"Test Accuracy :\", score[1])"
      ],
      "execution_count": 14,
      "outputs": [
        {
          "output_type": "stream",
          "text": [
            "Test Score    : 0.5005818605422974\n",
            "Test Accuracy : 0.7913874983787537\n"
          ],
          "name": "stdout"
        }
      ]
    },
    {
      "cell_type": "markdown",
      "metadata": {
        "id": "NUisQLQLYZOq",
        "colab_type": "text"
      },
      "source": [
        "Let's try to plot the accuracy differences for training and test sets."
      ]
    },
    {
      "cell_type": "code",
      "metadata": {
        "id": "__w5i6OWYaWv",
        "colab_type": "code",
        "colab": {
          "base_uri": "https://localhost:8080/",
          "height": 573
        },
        "outputId": "32b5df5e-ba43-4dd1-9ab9-bf50ec78ebff"
      },
      "source": [
        "draw_plots(history) "
      ],
      "execution_count": 15,
      "outputs": [
        {
          "output_type": "display_data",
          "data": {
            "image/png": "[encoded data removed]",
            "text/plain": [
              "<Figure size 432x288 with 1 Axes>"
            ]
          },
          "metadata": {
            "tags": [],
            "needs_background": "light"
          }
        },
        {
          "output_type": "display_data",
          "data": {
            "image/png": "[encoded data removed]",
            "text/plain": [
              "<Figure size 432x288 with 1 Axes>"
            ]
          },
          "metadata": {
            "tags": [],
            "needs_background": "light"
          }
        }
      ]
    },
    {
      "cell_type": "markdown",
      "metadata": {
        "id": "evQeOH6OYen8",
        "colab_type": "text"
      },
      "source": [
        "**Making Predictions on diffrente tweets** \n",
        "\n",
        "To predict the sentiment of this tweets, we have to convert this tweets into numeric form. We can do so using the tokenizer that we created in word embedding section. The text_to_sequences method will convert the sentence into its numeric counter part.\n",
        "\n",
        "Next, we need to pad our input sequence as we did for our corpus. Finally, we can use the predict method of our model and pass it our processed input sequence"
      ]
    },
    {
      "cell_type": "code",
      "metadata": {
        "id": "StRJ27NqYjAe",
        "colab_type": "code",
        "colab": {
          "base_uri": "https://localhost:8080/",
          "height": 72
        },
        "outputId": "894e888d-6a66-4b7b-92d6-5acc16ec2572"
      },
      "source": [
        "txt = [\"awesome movie\",\"terrible movie\",\"that movie really sucks\",\"i like that movie\"]\n",
        "txt = tokenizer.texts_to_sequences(txt)\n",
        "txt = pad_sequences(txt, padding='post', maxlen=maxlen)\n",
        "prediction = model.predict(txt)\n",
        "print('\\n prediction for \\n',prediction[:,0])"
      ],
      "execution_count": 16,
      "outputs": [
        {
          "output_type": "stream",
          "text": [
            "\n",
            " prediction for \n",
            " [0.9940996  0.02850234 0.02430623 0.79146534]\n"
          ],
          "name": "stdout"
        }
      ]
    },
    {
      "cell_type": "markdown",
      "metadata": {
        "id": "Nr83uSYyYoSX",
        "colab_type": "text"
      },
      "source": [
        "**Saving Model and Dictionnary**"
      ]
    },
    {
      "cell_type": "code",
      "metadata": {
        "id": "PIzuq16nYr5Z",
        "colab_type": "code",
        "colab": {}
      },
      "source": [
        "# save model and weights\n",
        "save_model(\n",
        "    model,\n",
        "    \"/content/gdrive/My Drive/PFA/Sentiment-Analysis/TrainedModels/Neural_Layer_EMB/model_CNN_NLayerEMBe100.h5\",\n",
        "    overwrite=True,\n",
        "    include_optimizer=True\n",
        ")\n",
        "\n",
        "# save vocabulary dictionnary\n",
        "create_csv('/content/gdrive/My Drive/PFA/Sentiment-Analysis/TrainedModels/Neural_Layer_EMB/dict_sentimentAnalysis.csv')\n"
      ],
      "execution_count": 0,
      "outputs": []
    }
  ]
}